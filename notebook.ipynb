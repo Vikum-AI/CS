{
 "cells": [
  {
   "cell_type": "markdown",
   "metadata": {},
   "source": [
    "Paper May/June 2018"
   ]
  },
  {
   "cell_type": "markdown",
   "metadata": {},
   "source": [
    "#### Q4"
   ]
  },
  {
   "cell_type": "markdown",
   "metadata": {},
   "source": [
    "#### (b)"
   ]
  },
  {
   "cell_type": "code",
   "execution_count": 2,
   "metadata": {},
   "outputs": [
    {
     "data": {
      "text/plain": [
       "{'xAxis': 1, 'yAxis': 3, 'width': 200, 'height': 150, 'image': 'image.png'}"
      ]
     },
     "execution_count": 2,
     "metadata": {},
     "output_type": "execute_result"
    }
   ],
   "source": [
    "class GameElement:\n",
    "\n",
    "    # Constructor to initialise the data.\n",
    "    def __init__(self, x, y, w, h, img):\n",
    "        self.xAxis = x\n",
    "        self.yAxis = y\n",
    "        self.width = w\n",
    "        self.height = h\n",
    "        self.image = img\n",
    "\n",
    "    # GetDetails methord to return all the attributes. \n",
    "    def GetDetails(self):\n",
    "        return self.__dict__\n",
    "\n",
    "# Testing with sample data.\n",
    "e = GameElement(1, 3, 200, 150, 'image.png')\n",
    "e.GetDetails()\n"
   ]
  },
  {
   "cell_type": "markdown",
   "metadata": {},
   "source": [
    "#### (c)"
   ]
  },
  {
   "cell_type": "code",
   "execution_count": 9,
   "metadata": {},
   "outputs": [
    {
     "data": {
      "text/plain": [
       "10"
      ]
     },
     "execution_count": 9,
     "metadata": {},
     "output_type": "execute_result"
    }
   ],
   "source": [
    "class Sceneray:\n",
    "\n",
    "    # Constructor to initialize the data.\n",
    "    def __init__(self, cause, points):\n",
    "        self.causeDamage = cause\n",
    "        self.damagePoints = points\n",
    "\n",
    "    # Methord to check if damage can be caused.\n",
    "\n",
    "    def GiveDamagePoints(self):\n",
    "\n",
    "        # The damage points are returned only if damage is caused.\n",
    "        if self.causeDamage == True:\n",
    "            return self.damagePoints\n",
    "\n",
    "\n",
    "# Testing with sample data.\n",
    "e = Sceneray(True, 10)\n",
    "e.GiveDamagePoints()"
   ]
  },
  {
   "cell_type": "markdown",
   "metadata": {},
   "source": [
    "#### (d)"
   ]
  },
  {
   "cell_type": "code",
   "execution_count": 15,
   "metadata": {},
   "outputs": [
    {
     "data": {
      "text/plain": [
       "{'causeDamage': True,\n",
       " 'damagePoints': 50,\n",
       " 'xAxis': 150,\n",
       " 'yAxis': 150,\n",
       " 'width': 50,\n",
       " 'height': 74,\n",
       " 'image': 'box.png'}"
      ]
     },
     "execution_count": 15,
     "metadata": {},
     "output_type": "execute_result"
    }
   ],
   "source": [
    "class Sceneray:\n",
    "\n",
    "    # Constructor to initialize the data.\n",
    "    def __init__(self, cause, points):\n",
    "        self.causeDamage = cause\n",
    "        self.damagePoints = points\n",
    "\n",
    "    # Methord to check if damage can be caused.\n",
    "    def GiveDamagePoints(self):\n",
    "\n",
    "        # The damage points are returned only if damage is caused.\n",
    "        if self.causeDamage == True:\n",
    "            return self.damagePoints\n",
    "\n",
    "    # New instance \n",
    "    def GiftBox(self, x, y, w, h, img):\n",
    "        self.xAxis = x\n",
    "        self.yAxis = y\n",
    "        self.width = w\n",
    "        self.height = h\n",
    "        self.image = img\n",
    "\n",
    "    # Methord to return all the attributes\n",
    "    def GetScenery(self):\n",
    "        return self.__dict__\n",
    "\n",
    "\n",
    "# Testing with sample data.\n",
    "e = Sceneray(True, 50)\n",
    "e.GiftBox(150, 150, 50, 74, \"box.png\")\n",
    "e.GetScenery()\n"
   ]
  },
  {
   "cell_type": "code",
   "execution_count": null,
   "metadata": {},
   "outputs": [],
   "source": []
  }
 ],
 "metadata": {
  "interpreter": {
   "hash": "31f2aee4e71d21fbe5cf8b01ff0e069b9275f58929596ceb00d14d90e3e16cd6"
  },
  "kernelspec": {
   "display_name": "Python 3.8.9 64-bit",
   "language": "python",
   "name": "python3"
  },
  "language_info": {
   "codemirror_mode": {
    "name": "ipython",
    "version": 3
   },
   "file_extension": ".py",
   "mimetype": "text/x-python",
   "name": "python",
   "nbconvert_exporter": "python",
   "pygments_lexer": "ipython3",
   "version": "3.8.9"
  },
  "orig_nbformat": 4
 },
 "nbformat": 4,
 "nbformat_minor": 2
}
